{
  "cells": [
    {
      "cell_type": "markdown",
      "metadata": {},
      "source": [
        "# Monte Carlo Insurance Risk Simulation\n",
        "\n",
        "This notebook demonstrates a Monte Carlo simulation for insurance risk analysis, which can be used to model the financial outcomes of an insurance portfolio.\n",
        "\n",
        "The simulation generates random claim events and amounts based on probability distributions to estimate expected profits, potential losses, and key risk metrics."
      ]
    },
    {
      "cell_type": "code",
      "execution_count": null,
      "metadata": {},
      "outputs": [],
      "source": [
        "import numpy as np\n",
        "import pandas as pd\n",
        "import matplotlib.pyplot as plt\n",
        "import seaborn as sns\n",
        "from scipy import stats\n",
        "\n",
        "# Set a seed for reproducibility\n",
        "np.random.seed(42)"
      ]
    },
    {
      "cell_type": "markdown",
      "metadata": {},
      "source": [
        "## Simulation Parameters\n",
        "\n",
        "Let's set up the parameters for our insurance portfolio simulation:"
      ]
    },
    {
      "cell_type": "code",
      "execution_count": null,
      "metadata": {},
      "outputs": [],
      "source": [
        "# Parameters for our insurance scenario\n",
        "num_simulations = 10000\n",
        "num_policies = 1000\n",
        "\n",
        "# Insurance parameters\n",
        "annual_premium = 1200  # Annual premium per policy ($)\n",
        "max_claim_payout = 100000  # Maximum claim payout ($)\n",
        "avg_claim_amount = 20000  # Average claim amount ($)\n",
        "claim_std_dev = 15000  # Standard deviation of claim amounts\n",
        "claim_probability = 0.05  # Probability of a claim being filed"
      ]
    },
    {
      "cell_type": "markdown",
      "metadata": {},
      "source": [
        "## Running the Monte Carlo Simulation\n",
        "\n",
        "We'll run multiple simulations to model the distribution of possible outcomes:"
      ]
    },
    {
      "cell_type": "code",
      "execution_count": null,
      "metadata": {},
      "outputs": [],
      "source": [
        "# Monte Carlo simulation\n",
        "results = []\n",
        "\n",
        "for sim in range(num_simulations):\n",
        "    # Generate random number of claims (using binomial distribution)\n",
        "    num_claims = np.random.binomial(n=num_policies, p=claim_probability)\n",
        "    \n",
        "    # Generate random claim amounts (using lognormal distribution to skew towards smaller claims)\n",
        "    mu = np.log(avg_claim_amount) - 0.5 * np.log(1 + (claim_std_dev/avg_claim_amount)**2)\n",
        "    sigma = np.sqrt(np.log(1 + (claim_std_dev/avg_claim_amount)**2))\n",
        "    claim_amounts = np.random.lognormal(mean=mu, sigma=sigma, size=num_claims)\n",
        "    \n",
        "    # Cap claim amounts at the maximum payout\n",
        "    claim_amounts = np.minimum(claim_amounts, max_claim_payout)\n",
        "    \n",
        "    # Calculate total revenue and payouts\n",
        "    total_revenue = annual_premium * num_policies\n",
        "    total_claims = np.sum(claim_amounts)\n",
        "    profit = total_revenue - total_claims\n",
        "    \n",
        "    # Store results\n",
        "    results.append({\n",
        "        'simulation': sim,\n",
        "        'num_claims': num_claims,\n",
        "        'total_revenue': total_revenue,\n",
        "        'total_claims': total_claims,\n",
        "        'profit': profit\n",
        "    })\n",
        "\n",
        "# Convert results to DataFrame\n",
        "df_results = pd.DataFrame(results)"
      ]
    },
    {
      "cell_type": "markdown",
      "metadata": {},
      "source": [
        "## Analyzing the Results\n",
        "\n",
        "Let's calculate key risk metrics:"
      ]
    },
    {
      "cell_type": "code",
      "execution_count": null,
      "metadata": {},
      "outputs": [],
      "source": [
        "# Calculate key metrics\n",
        "expected_profit = df_results['profit'].mean()\n",
        "profit_std = df_results['profit'].std()\n",
        "var_95 = np.percentile(df_results['profit'], 5)  # 95% Value at Risk\n",
        "cvar_95 = df_results[df_results['profit'] <= var_95]['profit'].mean()  # Conditional VaR\n",
        "\n",
        "# Probability of loss\n",
        "prob_loss = (df_results['profit'] < 0).mean() * 100\n",
        "\n",
        "# Display results\n",
        "print(f\"Monte Carlo Simulation Results ({num_simulations} simulations)\")\n",
        "print(f\"Number of policies: {num_policies}\")\n",
        "print(f\"Annual premium per policy: ${annual_premium}\")\n",
        "print(f\"Claim probability: {claim_probability:.1%}\")\n",
        "print(f\"Average claim amount: ${avg_claim_amount}\")\n",
        "print(f\"---\")\n",
        "print(f\"Expected annual profit: ${expected_profit:,.2f}\")\n",
        "print(f\"Profit standard deviation: ${profit_std:,.2f}\")\n",
        "print(f\"Probability of loss: {prob_loss:.2f}%\")\n",
        "print(f\"95% Value at Risk: ${-var_95:,.2f}\")\n",
        "print(f\"95% Conditional VaR: ${-cvar_95:,.2f}\")"
      ]
    },
    {
      "cell_type": "markdown",
      "metadata": {},
      "source": [
        "## Visualizing the Results\n",
        "\n",
        "Now let's create visualizations to better understand the risk profile:"
      ]
    },
    {
      "cell_type": "code",
      "execution_count": null,
      "metadata": {},
      "outputs": [],
      "source": [
        "# Visualizations\n",
        "plt.figure(figsize=(12, 10))\n",
        "\n",
        "# Histogram of profits\n",
        "plt.subplot(2, 2, 1)\n",
        "sns.histplot(df_results['profit'], kde=True)\n",
        "plt.axvline(x=0, color='red', linestyle='--')\n",
        "plt.axvline(x=expected_profit, color='green', linestyle='-')\n",
        "plt.title('Distribution of Profits')\n",
        "plt.xlabel('Profit ($)')\n",
        "plt.ylabel('Frequency')\n",
        "plt.grid(True, alpha=0.3)\n",
        "\n",
        "# Histogram of number of claims\n",
        "plt.subplot(2, 2, 2)\n",
        "sns.histplot(df_results['num_claims'], kde=True, discrete=True)\n",
        "plt.axvline(x=df_results['num_claims'].mean(), color='green', linestyle='-')\n",
        "plt.title('Distribution of Number of Claims')\n",
        "plt.xlabel('Number of Claims')\n",
        "plt.ylabel('Frequency')\n",
        "plt.grid(True, alpha=0.3)\n",
        "\n",
        "# Scatter plot of claims vs. profit\n",
        "plt.subplot(2, 2, 3)\n",
        "plt.scatter(df_results['total_claims'], df_results['profit'], alpha=0.3)\n",
        "plt.title('Relationship Between Claims and Profit')\n",
        "plt.xlabel('Total Claims ($)')\n",
        "plt.ylabel('Profit ($)')\n",
        "plt.grid(True, alpha=0.3)\n",
        "\n",
        "# CDF of profits\n",
        "plt.subplot(2, 2, 4)\n",
        "sorted_profits = np.sort(df_results['profit'])\n",
        "cumulative_prob = np.arange(len(sorted_profits)) / float(len(sorted_profits))\n",
        "plt.plot(sorted_profits, cumulative_prob)\n",
        "plt.axvline(x=0, color='red', linestyle='--')\n",
        "plt.axvline(x=var_95, color='orange', linestyle='--', label='95% VaR')\n",
        "plt.title('Cumulative Distribution of Profits')\n",
        "plt.xlabel('Profit ($)')\n",
        "plt.ylabel('Probability')\n",
        "plt.grid(True, alpha=0.3)\n",
        "plt.legend()\n",
        "\n",
        "plt.tight_layout()\n",
        "plt.show()"
      ]
    },
    {
      "cell_type": "markdown",
      "metadata": {},
      "source": [
        "## Sensitivity Analysis\n",
        "\n",
        "Let's examine how changing the premium affects expected profit:"
      ]
    },
    {
      "cell_type": "code",
      "execution_count": null,
      "metadata": {},
      "outputs": [],
      "source": [
        "# Sensitivity analysis - Premium vs. Profit\n",
        "premium_range = np.linspace(800, 1600, 20)\n",
        "expected_profits = []\n",
        "\n",
        "for premium in premium_range:\n",
        "    profits = []\n",
        "    for _ in range(1000):  # Smaller number of simulations for speed\n",
        "        num_claims = np.random.binomial(n=num_policies, p=claim_probability)\n",
        "        claim_amounts = np.random.lognormal(mean=mu, sigma=sigma, size=num_claims)\n",
        "        claim_amounts = np.minimum(claim_amounts, max_claim_payout)\n",
        "        total_revenue = premium * num_policies\n",
        "        total_claims = np.sum(claim_amounts)\n",
        "        profit = total_revenue - total_claims\n",
        "        profits.append(profit)\n",
        "    expected_profits.append(np.mean(profits))\n",
        "\n",
        "plt.figure(figsize=(10, 6))\n",
        "plt.plot(premium_range, expected_profits)\n",
        "plt.axhline(y=0, color='red', linestyle='--')\n",
        "plt.xlabel('Annual Premium ($)')\n",
        "plt.ylabel('Expected Profit ($)')\n",
        "plt.title('Sensitivity Analysis: Premium vs. Expected Profit')\n",
        "plt.grid(True, alpha=0.3)\n",
        "plt.tight_layout()\n",
        "plt.show()"
      ]
    },
    {
      "cell_type": "markdown",
      "metadata": {},
      "source": [
        "## Conclusion\n",
        "\n",
        "This Monte Carlo simulation helps us understand:  \n",
        "  \n",
        "1. The expected annual profit from our insurance portfolio  \n",
        "2. The range of potential outcomes and their probabilities  \n",
        "3. The risk of significant losses (Value at Risk)  \n",
        "4. How sensitive our profitability is to premium pricing\n",
        "\n",
        "Based on this analysis, we can make more informed decisions about premium pricing, risk management strategies, and capital reserves needed to maintain solvency."
      ]
    }
  ],
  "metadata": {
    "kernelspec": {
      "display_name": "Python 3",
      "language": "python",
      "name": "python3"
    },
    "language_info": {
      "codemirror_mode": {
        "name": "ipython",
        "version": 3
      },
      "file_extension": ".py",
      "mimetype": "text/x-python",
      "name": "python",
      "nbconvert_exporter": "python",
      "pygments_lexer": "ipython3",
      "version": "3.9.7"
    }
  },
  "nbformat": 4,
  "nbformat_minor": 5
}